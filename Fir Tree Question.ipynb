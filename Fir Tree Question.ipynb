{
 "cells": [
  {
   "cell_type": "code",
   "execution_count": 1,
   "metadata": {},
   "outputs": [],
   "source": [
    "import numpy as np\n",
    "import scipy.stats as scistat"
   ]
  },
  {
   "cell_type": "code",
   "execution_count": 2,
   "metadata": {},
   "outputs": [],
   "source": [
    "def d1(S, K, r, sigma, T, D):\n",
    "    return (np.log(S/K) + (r - D+sigma*sigma/2)*T)/(sigma*np.sqrt(T))\n",
    "\n",
    "def d2(S, K, r, sigma, T, D):\n",
    "    return d1(S, K, r, sigma, T, D) - sigma*np.sqrt(T)"
   ]
  },
  {
   "cell_type": "code",
   "execution_count": 3,
   "metadata": {},
   "outputs": [],
   "source": [
    "class Call:\n",
    "    def __init__(self, S, D, K, r, T, sigma):\n",
    "        self.S = S\n",
    "        self.D = D\n",
    "        self.K = K\n",
    "        self.r = r\n",
    "        self.T = T\n",
    "        self.sigma = sigma\n",
    "        \n",
    "    def Price(self):\n",
    "        return self.S*np.exp(-self.D*self.T)*scistat.norm.cdf(d1(self.S, self.K, self.r, self.sigma, self.T, self.D)) - self.K*np.exp(-self.r*self.T)*scistat.norm.cdf(d2(self.S, self.K, self.r, self.sigma, self.T))\n",
    "\n",
    "    def Delta(self):\n",
    "        return np.exp(-self.D*self.T)*scistat.norm.cdf(d1(self.S, self.K, self.r, self.sigma, self.T, self.D))\n",
    "\n",
    "\n",
    "    def Vega(self):\n",
    "        return self.S*np.exp(-self.D*self.T)*scistat.norm.pdf(d1(self.S, self.K, self.r, self.sigma, self.T, self.D))*np.sqrt(self.T)\n",
    "\n",
    "    def Theta(self):\n",
    "        aux1 = -self.S*np.exp(-self.D*self.T)*scistat.norm.pdf(d1(self.S, self.K, self.r, self.sigma, self.T, self.D))*self.sigma/(2*np.sqrt(self.T))\n",
    "        aux2 = -self.r*self.K*np.exp(-self.r*self.T)*scistat.norm.cdf(d2(self.S, self.K, self.r, self.sigma, self.T, self.D))\n",
    "        aux3 = self.D*self.S*np.exp(-self.D*self.T)*scistat.norm.cdf(d1(self.S, self.K, self.r, self.sigma, self.T, self.D))\n",
    "        return aux1+aux2+aux3\n"
   ]
  },
  {
   "cell_type": "code",
   "execution_count": null,
   "metadata": {},
   "outputs": [],
   "source": [
    "class Put:\n",
    "    def __init__(self, S, D, K, r, T, sigma):\n",
    "        self.S = S\n",
    "        self.D = D\n",
    "        self.K = K\n",
    "        self.r = r\n",
    "        self.T = T\n",
    "        self.sigma = sigma\n",
    "        \n",
    "    def Price(self):\n",
    "        return self.K*np.exp(-self.r*self.T)*scistat.norm.cdf(-1*d2(self.S, self.K, self.r, self.sigma, self.T, self.D)) - self.S*np.exp(-self.D*self.T)*scistat.norm.cdf(-1*d1(self.S, self.K, self.r, self.sigma, self.T, self.D))\n",
    "\n",
    "    def Delta(self):\n",
    "        return np.exp(-self.D*self.T)*scistat.norm.cdf(d1(self.S, self.K, self.r, self.sigma, self.T, self.D)) - 1\n",
    "\n",
    "    def Vega(self):\n",
    "        return self.S*np.exp(-self.D*self.T)*scistat.norm.pdf(d1(self.S, self.K, self.r, self.sigma, self.T, self.D))*np.sqrt(self.T)\n",
    "\n",
    "    def Theta(self):\n",
    "        aux1 = -self.S*np.exp(-self.D*self.T)*scistat.norm.pdf(d1(self.S, self.K, self.r, self.sigma, self.T, self.D))*self.sigma/(2*np.sqrt(self.T))\n",
    "        aux2 = self.r*self.K*np.exp(-self.r*self.T)*scistat.norm.cdf(-d2(self.S, self.K, self.r, self.sigma, self.T, self.D))\n",
    "        aux3 = -self.D*self.S*np.exp(-self.D*self.T)*scistat.norm.cdf(-d1(self.S, self.K, self.r, self.sigma, self.T, self.D))\n",
    "        return aux1+aux2+aux3\n"
   ]
  }
 ],
 "metadata": {
  "kernelspec": {
   "display_name": "Python 3",
   "language": "python",
   "name": "python3"
  },
  "language_info": {
   "codemirror_mode": {
    "name": "ipython",
    "version": 3
   },
   "file_extension": ".py",
   "mimetype": "text/x-python",
   "name": "python",
   "nbconvert_exporter": "python",
   "pygments_lexer": "ipython3",
   "version": "3.8.3"
  }
 },
 "nbformat": 4,
 "nbformat_minor": 4
}
